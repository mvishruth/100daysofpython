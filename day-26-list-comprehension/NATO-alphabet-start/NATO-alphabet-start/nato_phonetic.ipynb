{
 "cells": [
  {
   "cell_type": "markdown",
   "metadata": {},
   "source": [
    "NATO PHONETIC "
   ]
  },
  {
   "cell_type": "markdown",
   "metadata": {},
   "source": [
    "student_dict = {\n",
    "    \"student\": [\"Angela\", \"James\", \"Lily\"], \n",
    "    \"score\": [56, 76, 98]\n",
    "}\n",
    "\n",
    "#Looping through dictionaries:\n",
    "for (key, value) in student_dict.items():\n",
    "    #Access key and value\n",
    "    pass\n",
    "\n",
    "import pandas\n",
    "student_data_frame = pandas.DataFrame(student_dict)\n",
    "\n",
    "#Loop through rows of a data frame\n",
    "for (index, row) in student_data_frame.iterrows():\n",
    "    #Access index and row\n",
    "    #Access row.student or row.score\n",
    "    pass\n",
    "\n",
    "# Keyword Method with iterrows()\n",
    "# {new_key:new_value for (index, row) in df.iterrows()}\n",
    "\n",
    "#TODO 1. Create a dictionary in this format:\n",
    "{\"A\": \"Alfa\", \"B\": \"Bravo\"}\n",
    "\n",
    "#TODO 2. Create a list of the phonetic code words from a word that the user inputs."
   ]
  },
  {
   "cell_type": "code",
   "execution_count": 3,
   "metadata": {},
   "outputs": [
    {
     "data": {
      "text/plain": [
       "{'A': 'Alfa',\n",
       " 'B': 'Bravo',\n",
       " 'C': 'Charlie',\n",
       " 'D': 'Delta',\n",
       " 'E': 'Echo',\n",
       " 'F': 'Foxtrot',\n",
       " 'G': 'Golf',\n",
       " 'H': 'Hotel',\n",
       " 'I': 'India',\n",
       " 'J': 'Juliet',\n",
       " 'K': 'Kilo',\n",
       " 'L': 'Lima',\n",
       " 'M': 'Mike',\n",
       " 'N': 'November',\n",
       " 'O': 'Oscar',\n",
       " 'P': 'Papa',\n",
       " 'Q': 'Quebec',\n",
       " 'R': 'Romeo',\n",
       " 'S': 'Sierra',\n",
       " 'T': 'Tango',\n",
       " 'U': 'Uniform',\n",
       " 'V': 'Victor',\n",
       " 'W': 'Whiskey',\n",
       " 'X': 'X-ray',\n",
       " 'Y': 'Yankee',\n",
       " 'Z': 'Zulu'}"
      ]
     },
     "execution_count": 3,
     "metadata": {},
     "output_type": "execute_result"
    }
   ],
   "source": [
    "import pandas as pd\n",
    "\n",
    "with open (\"nato_phonetic_alphabet.csv\") as file:\n",
    "    data = pd.read_csv(file)\n",
    "    nato_dict = {row.letter: row.code for (index, row) in data.iterrows()}\n",
    "\n",
    "nato_dict"
   ]
  },
  {
   "cell_type": "code",
   "execution_count": 4,
   "metadata": {},
   "outputs": [
    {
     "data": {
      "text/plain": [
       "['Victor', 'India', 'Sierra', 'Hotel', 'Romeo', 'Uniform', 'Tango', 'Hotel']"
      ]
     },
     "execution_count": 4,
     "metadata": {},
     "output_type": "execute_result"
    }
   ],
   "source": [
    "word = input(\"Enter a Word: \").upper()\n",
    "output_list = [nato_dict[letter] for letter in word]\n",
    "output_list"
   ]
  }
 ],
 "metadata": {
  "kernelspec": {
   "display_name": "Python 3",
   "language": "python",
   "name": "python3"
  },
  "language_info": {
   "codemirror_mode": {
    "name": "ipython",
    "version": 3
   },
   "file_extension": ".py",
   "mimetype": "text/x-python",
   "name": "python",
   "nbconvert_exporter": "python",
   "pygments_lexer": "ipython3",
   "version": "3.11.8"
  }
 },
 "nbformat": 4,
 "nbformat_minor": 2
}
